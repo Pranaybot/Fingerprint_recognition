{
 "cells": [
  {
   "cell_type": "markdown",
   "id": "d2d74c11",
   "metadata": {},
   "source": [
    "### 1)"
   ]
  },
  {
   "cell_type": "code",
   "execution_count": 1,
   "id": "bdd859bf",
   "metadata": {},
   "outputs": [],
   "source": [
    "def diff_per_sum(mtx):\n",
    "    tp = 0\n",
    "    col = 0\n",
    "    row = 0\n",
    "    per_sum = 0\n",
    "    tp_val = 0\n",
    "    pcar_sum = 0\n",
    "    dt = {}\n",
    "    pos = set()\n",
    "    tp_pos = set()\n",
    "    for i in range(len(mtx)):\n",
    "        if i == 0:\n",
    "            col += len(mtx[i]) - 1\n",
    "    pos.add(tuple([row, col]))\n",
    "    tp_pos.add(tuple([row, col]))\n",
    "\n",
    "    for j in range(len(mtx)):\n",
    "        tp += (len(mtx[j]) - (len(mtx[j]) - 1))\n",
    "    tp = tp - 1\n",
    "\n",
    "    cur_val = mtx[row][col]\n",
    "    for i in range(pow(tp + 1, 2)):\n",
    "        if row == 0 and col != 0:\n",
    "            if row != col:\n",
    "                tp_val = cur_val\n",
    "                if tp_val not in dt and tp_pos == pos:\n",
    "                    dt[tp_val] = col\n",
    "                    col -= 1\n",
    "                    cur_val = mtx[row][col]\n",
    "                    per_sum = cur_val - tp_val\n",
    "                    if per_sum > 90:\n",
    "                        per_sum = per_sum - 180\n",
    "                        pcar_sum += per_sum\n",
    "                        tp_pos.clear()\n",
    "                        tp_pos.add(tuple([row, col]))\n",
    "                    elif -90 <= per_sum <= 90:\n",
    "                        pcar_sum += per_sum\n",
    "                        tp_pos.clear()\n",
    "                        tp_pos.add(tuple([row, col]))\n",
    "                    else:\n",
    "                        per_sum = per_sum + 180\n",
    "                        pcar_sum += per_sum\n",
    "                        tp_pos.clear()\n",
    "                        tp_pos.add(tuple([row, col]))\n",
    "                elif tp_val in dt and tp_pos == pos:\n",
    "                    return int(pcar_sum/180)\n",
    "                else:\n",
    "                    col -= 1\n",
    "                    cur_val = mtx[row][col]\n",
    "                    per_sum = cur_val - tp_val\n",
    "                    if per_sum > 90:\n",
    "                        per_sum = per_sum - 180\n",
    "                        pcar_sum += per_sum\n",
    "                        tp_pos.clear()\n",
    "                        tp_pos.add(tuple([row, col]))\n",
    "                    elif -90 <= per_sum <= 90:\n",
    "                        pcar_sum += per_sum\n",
    "                        tp_pos.clear()\n",
    "                        tp_pos.add(tuple([row, col]))\n",
    "                    else:\n",
    "                        per_sum = per_sum + 180\n",
    "                        pcar_sum += per_sum\n",
    "                        tp_pos.clear()\n",
    "                        tp_pos.add(tuple([row, col]))\n",
    "        elif row == 0 and col == 0:\n",
    "            tp_val = cur_val\n",
    "            row += 1\n",
    "            cur_val = mtx[row][col]\n",
    "            per_sum = cur_val - tp_val\n",
    "            if per_sum > 90:\n",
    "                per_sum = per_sum - 180\n",
    "                pcar_sum += per_sum\n",
    "                tp_pos.clear()\n",
    "                tp_pos.add(tuple([row, col]))\n",
    "            elif -90 <= per_sum <= 90:\n",
    "                pcar_sum += per_sum\n",
    "                tp_pos.clear()\n",
    "                tp_pos.add(tuple([row, col]))\n",
    "            else:\n",
    "                per_sum = per_sum + 180\n",
    "                pcar_sum += per_sum\n",
    "                tp_pos.clear()\n",
    "                tp_pos.add(tuple([row, col]))\n",
    "        elif row != 0 and col == 0:\n",
    "            if row < tp:\n",
    "                tp_val = cur_val\n",
    "                row += 1\n",
    "                cur_val = mtx[row][col]\n",
    "                per_sum = cur_val - tp_val\n",
    "                if per_sum > 90:\n",
    "                    per_sum = per_sum - 180\n",
    "                    pcar_sum += per_sum\n",
    "                    tp_pos.clear()\n",
    "                    tp_pos.add(tuple([row, col]))\n",
    "                elif -90 <= per_sum <= 90:\n",
    "                    pcar_sum += per_sum\n",
    "                    tp_pos.clear()\n",
    "                    tp_pos.add(tuple([row, col]))\n",
    "                else:\n",
    "                    per_sum = per_sum + 180\n",
    "                    pcar_sum += per_sum\n",
    "                    tp_pos.clear()\n",
    "                    tp_pos.add(tuple([row, col]))\n",
    "            else:\n",
    "                tp_val = cur_val\n",
    "                col += 1\n",
    "                cur_val = mtx[row][col]\n",
    "                per_sum = cur_val - tp_val\n",
    "                if per_sum > 90:\n",
    "                    per_sum = per_sum - 180\n",
    "                    pcar_sum += per_sum\n",
    "                    tp_pos.clear()\n",
    "                    tp_pos.add(tuple([row, col]))\n",
    "                elif -90 <= per_sum <= 90:\n",
    "                    pcar_sum += per_sum\n",
    "                    tp_pos.clear()\n",
    "                    tp_pos.add(tuple([row, col]))\n",
    "                else:\n",
    "                    per_sum = per_sum + 180\n",
    "                    pcar_sum += per_sum\n",
    "                    tp_pos.clear()\n",
    "                    tp_pos.add(tuple([row, col]))\n",
    "        elif row == tp and col != tp:\n",
    "            tp_val = cur_val\n",
    "            col += 1\n",
    "            cur_val = mtx[row][col]\n",
    "            per_sum = cur_val - tp_val\n",
    "            if per_sum > 90:\n",
    "                per_sum = per_sum - 180\n",
    "                pcar_sum += per_sum\n",
    "                tp_pos.clear()\n",
    "                tp_pos.add(tuple([row, col]))\n",
    "            elif -90 <= per_sum <= 90:\n",
    "                pcar_sum += per_sum\n",
    "                tp_pos.clear()\n",
    "                tp_pos.add(tuple([row, col]))\n",
    "            else:\n",
    "                per_sum = per_sum + 180\n",
    "                pcar_sum += per_sum\n",
    "                tp_pos.clear()\n",
    "                tp_pos.add(tuple([row, col]))\n",
    "        elif row == tp and col == tp:\n",
    "            tp_val = cur_val\n",
    "            row -= 1\n",
    "            cur_val = mtx[row][col]\n",
    "            per_sum = cur_val - tp_val\n",
    "            if per_sum > 90:\n",
    "                per_sum = per_sum - 180\n",
    "                pcar_sum += per_sum\n",
    "                tp_pos.clear()\n",
    "                tp_pos.add(tuple([row, col]))\n",
    "            elif -90 <= per_sum <= 90:\n",
    "                pcar_sum += per_sum\n",
    "                tp_pos.clear()\n",
    "                tp_pos.add(tuple([row, col]))\n",
    "            else:\n",
    "                per_sum = per_sum + 180\n",
    "                pcar_sum += per_sum\n",
    "                tp_pos.clear()\n",
    "                tp_pos.add(tuple([row, col]))\n",
    "        else:\n",
    "            tp_val = cur_val\n",
    "            row -= 1\n",
    "            cur_val = mtx[row][col]\n",
    "            per_sum = cur_val - tp_val\n",
    "            if per_sum > 90:\n",
    "                per_sum = per_sum - 180\n",
    "                pcar_sum += per_sum\n",
    "                tp_pos.clear()\n",
    "                tp_pos.add(tuple([row, col]))\n",
    "            elif -90 <= per_sum <= 90:\n",
    "                pcar_sum += per_sum\n",
    "                tp_pos.clear()\n",
    "                tp_pos.add(tuple([row, col]))\n",
    "            else:\n",
    "                per_sum = per_sum + 180\n",
    "                pcar_sum += per_sum\n",
    "                tp_pos.clear()\n",
    "                tp_pos.add(tuple([row, col]))"
   ]
  },
  {
   "cell_type": "code",
   "execution_count": 2,
   "id": "6a7b65ff",
   "metadata": {},
   "outputs": [],
   "source": [
    "first_region = diff_per_sum([[10, 15, -10], [12, 0, 15], [13, 12, -5]])\n",
    "second_region = diff_per_sum([[45, 90, -50], [50, 0, -45], [5, 0, -5]])\n",
    "third_region = diff_per_sum([[50, 0, -50], [75, 0, -70], [85, 90, -85]])\n",
    "fourth_region = diff_per_sum([[45, 2, -50], [90, 0, 90], [-50, 2, 50]])"
   ]
  },
  {
   "cell_type": "code",
   "execution_count": 3,
   "id": "e6bebb4b",
   "metadata": {},
   "outputs": [
    {
     "name": "stdout",
     "output_type": "stream",
     "text": [
      "0\n"
     ]
    }
   ],
   "source": [
    "print(first_region)"
   ]
  },
  {
   "cell_type": "code",
   "execution_count": 4,
   "id": "a4775143",
   "metadata": {},
   "outputs": [
    {
     "name": "stdout",
     "output_type": "stream",
     "text": [
      "-1\n"
     ]
    }
   ],
   "source": [
    "print(second_region)"
   ]
  },
  {
   "cell_type": "code",
   "execution_count": 5,
   "id": "34b10679",
   "metadata": {},
   "outputs": [
    {
     "name": "stdout",
     "output_type": "stream",
     "text": [
      "1\n"
     ]
    }
   ],
   "source": [
    "print(third_region)"
   ]
  },
  {
   "cell_type": "code",
   "execution_count": 6,
   "id": "bc24222f",
   "metadata": {},
   "outputs": [
    {
     "name": "stdout",
     "output_type": "stream",
     "text": [
      "2\n"
     ]
    }
   ],
   "source": [
    "print(fourth_region)"
   ]
  },
  {
   "cell_type": "markdown",
   "id": "3106f27c",
   "metadata": {},
   "source": [
    "### 2) a."
   ]
  },
  {
   "cell_type": "code",
   "execution_count": 25,
   "id": "80c7a751",
   "metadata": {},
   "outputs": [],
   "source": [
    "import math\n",
    "import matplotlib.pyplot as plt\n",
    "\n",
    "\n",
    "def ridge_pat_func(orientation, amplitude, frequency, data):\n",
    "    ridge = 0\n",
    "    ridge_inner = 0\n",
    "    sine_value = 0\n",
    "    cosine_value = 0\n",
    "\n",
    "    item = math.radians(orientation)\n",
    "    for i in range(len(data)):\n",
    "        for j in range(len(data)):\n",
    "            sine_value = i * math.sin(item)\n",
    "            cos_value = j * math.cos(item)\n",
    "            ridge_inner = 2 * math.pi * frequency * (sine_value + cos_value)\n",
    "            ridge = amplitude * math.cos(ridge_inner)\n",
    "            data[i][j] = ridge\n",
    "            ridge = 0\n",
    "            ridge_inner = 0\n",
    "            cos_value = 0\n",
    "            sine_value = 0\n",
    "    return data         "
   ]
  },
  {
   "cell_type": "code",
   "execution_count": 26,
   "id": "08151669",
   "metadata": {},
   "outputs": [],
   "source": [
    "dataset = [ [ 0 for i in range(600) ] for j in range(600) ]"
   ]
  },
  {
   "cell_type": "code",
   "execution_count": 31,
   "id": "e329ef17",
   "metadata": {},
   "outputs": [
    {
     "data": {
      "text/plain": [
       "<matplotlib.image.AxesImage at 0x7f54ef63e670>"
      ]
     },
     "execution_count": 31,
     "metadata": {},
     "output_type": "execute_result"
    },
    {
     "data": {
      "image/png": "[encoded data removed]",
      "text/plain": [
       "<Figure size 432x288 with 1 Axes>"
      ]
     },
     "metadata": {
      "needs_background": "light"
     },
     "output_type": "display_data"
    }
   ],
   "source": [
    "first_ridge = ridge_pat_func(0, 80, 0.01, dataset)\n",
    "plt.imshow(first_ridge, cmap = 'gray')"
   ]
  },
  {
   "cell_type": "code",
   "execution_count": 33,
   "id": "756d71fe",
   "metadata": {},
   "outputs": [
    {
     "data": {
      "text/plain": [
       "<matplotlib.image.AxesImage at 0x7f54ef594d00>"
      ]
     },
     "execution_count": 33,
     "metadata": {},
     "output_type": "execute_result"
    },
    {
     "data": {
      "image/png": "[encoded data removed]",
      "text/plain": [
       "<Figure size 432x288 with 1 Axes>"
      ]
     },
     "metadata": {
      "needs_background": "light"
     },
     "output_type": "display_data"
    }
   ],
   "source": [
    "second_ridge = ridge_pat_func(45, 80, 0.01, dataset)\n",
    "plt.imshow(second_ridge, cmap = 'gray')"
   ]
  },
  {
   "cell_type": "code",
   "execution_count": 35,
   "id": "f3ef0497",
   "metadata": {},
   "outputs": [
    {
     "data": {
      "text/plain": [
       "<matplotlib.image.AxesImage at 0x7f54ef5912b0>"
      ]
     },
     "execution_count": 35,
     "metadata": {},
     "output_type": "execute_result"
    },
    {
     "data": {
      "image/png": "[encoded data removed]",
      "text/plain": [
       "<Figure size 432x288 with 1 Axes>"
      ]
     },
     "metadata": {
      "needs_background": "light"
     },
     "output_type": "display_data"
    }
   ],
   "source": [
    "third_ridge = ridge_pat_func(90, 80, 0.01, dataset)\n",
    "plt.imshow(third_ridge, cmap = 'gray')"
   ]
  },
  {
   "cell_type": "code",
   "execution_count": 36,
   "id": "36af85d4",
   "metadata": {},
   "outputs": [
    {
     "data": {
      "text/plain": [
       "<matplotlib.image.AxesImage at 0x7f54ef567850>"
      ]
     },
     "execution_count": 36,
     "metadata": {},
     "output_type": "execute_result"
    },
    {
     "data": {
      "image/png": "[encoded data removed]",
      "text/plain": [
       "<Figure size 432x288 with 1 Axes>"
      ]
     },
     "metadata": {
      "needs_background": "light"
     },
     "output_type": "display_data"
    }
   ],
   "source": [
    "fourth_ridge = ridge_pat_func(135, 80, 0.01, dataset)\n",
    "plt.imshow(fourth_ridge, cmap = 'gray')"
   ]
  },
  {
   "cell_type": "markdown",
   "id": "29c9b055",
   "metadata": {},
   "source": [
    "### b)"
   ]
  },
  {
   "cell_type": "code",
   "execution_count": 37,
   "id": "6b0de0e9",
   "metadata": {},
   "outputs": [
    {
     "data": {
      "text/plain": [
       "<matplotlib.image.AxesImage at 0x7f54ef5ca250>"
      ]
     },
     "execution_count": 37,
     "metadata": {},
     "output_type": "execute_result"
    },
    {
     "data": {
      "image/png": "[encoded data removed]",
      "text/plain": [
       "<Figure size 432x288 with 1 Axes>"
      ]
     },
     "metadata": {
      "needs_background": "light"
     },
     "output_type": "display_data"
    }
   ],
   "source": [
    "first_ridge = ridge_pat_func(0, 160, 0.01, dataset)\n",
    "plt.imshow(first_ridge, cmap = 'gray')"
   ]
  },
  {
   "cell_type": "code",
   "execution_count": 38,
   "id": "af7d812a",
   "metadata": {},
   "outputs": [
    {
     "data": {
      "text/plain": [
       "<matplotlib.image.AxesImage at 0x7f54ef748910>"
      ]
     },
     "execution_count": 38,
     "metadata": {},
     "output_type": "execute_result"
    },
    {
     "data": {
      "image/png": "[encoded data removed]",
      "text/plain": [
       "<Figure size 432x288 with 1 Axes>"
      ]
     },
     "metadata": {
      "needs_background": "light"
     },
     "output_type": "display_data"
    }
   ],
   "source": [
    "second_ridge = ridge_pat_func(45, 160, 0.01, dataset)\n",
    "plt.imshow(second_ridge, cmap = 'gray')"
   ]
  },
  {
   "cell_type": "code",
   "execution_count": 39,
   "id": "e0389583",
   "metadata": {},
   "outputs": [
    {
     "data": {
      "text/plain": [
       "<matplotlib.image.AxesImage at 0x7f54ef616d90>"
      ]
     },
     "execution_count": 39,
     "metadata": {},
     "output_type": "execute_result"
    },
    {
     "data": {
      "image/png": "[encoded data removed]",
      "text/plain": [
       "<Figure size 432x288 with 1 Axes>"
      ]
     },
     "metadata": {
      "needs_background": "light"
     },
     "output_type": "display_data"
    }
   ],
   "source": [
    "third_ridge = ridge_pat_func(90, 160, 0.01, dataset)\n",
    "plt.imshow(third_ridge, cmap = 'gray')"
   ]
  },
  {
   "cell_type": "code",
   "execution_count": 40,
   "id": "688c5cc2",
   "metadata": {},
   "outputs": [
    {
     "data": {
      "text/plain": [
       "<matplotlib.image.AxesImage at 0x7f54f41e8d90>"
      ]
     },
     "execution_count": 40,
     "metadata": {},
     "output_type": "execute_result"
    },
    {
     "data": {
      "image/png": "[encoded data removed]",
      "text/plain": [
       "<Figure size 432x288 with 1 Axes>"
      ]
     },
     "metadata": {
      "needs_background": "light"
     },
     "output_type": "display_data"
    }
   ],
   "source": [
    "fourth_ridge = ridge_pat_func(135, 160, 0.01, dataset)\n",
    "plt.imshow(fourth_ridge, cmap = 'gray')"
   ]
  },
  {
   "cell_type": "markdown",
   "id": "c1571049",
   "metadata": {},
   "source": [
    "### c)"
   ]
  },
  {
   "cell_type": "code",
   "execution_count": 41,
   "id": "2f648e20",
   "metadata": {},
   "outputs": [
    {
     "data": {
      "text/plain": [
       "<matplotlib.image.AxesImage at 0x7f54f66fd430>"
      ]
     },
     "execution_count": 41,
     "metadata": {},
     "output_type": "execute_result"
    },
    {
     "data": {
      "image/png": "[encoded data removed]",
      "text/plain": [
       "<Figure size 432x288 with 1 Axes>"
      ]
     },
     "metadata": {
      "needs_background": "light"
     },
     "output_type": "display_data"
    }
   ],
   "source": [
    "first_ridge = ridge_pat_func(0, 80, 1, dataset)\n",
    "plt.imshow(first_ridge, cmap = 'gray')"
   ]
  },
  {
   "cell_type": "code",
   "execution_count": 42,
   "id": "7b9fac77",
   "metadata": {},
   "outputs": [
    {
     "data": {
      "text/plain": [
       "<matplotlib.image.AxesImage at 0x7f54f4111310>"
      ]
     },
     "execution_count": 42,
     "metadata": {},
     "output_type": "execute_result"
    },
    {
     "data": {
      "image/png": "[encoded data removed]",
      "text/plain": [
       "<Figure size 432x288 with 1 Axes>"
      ]
     },
     "metadata": {
      "needs_background": "light"
     },
     "output_type": "display_data"
    }
   ],
   "source": [
    "second_ridge = ridge_pat_func(45, 80, 1, dataset)\n",
    "plt.imshow(second_ridge, cmap = 'gray')"
   ]
  },
  {
   "cell_type": "code",
   "execution_count": 43,
   "id": "337cfcc8",
   "metadata": {},
   "outputs": [
    {
     "data": {
      "text/plain": [
       "<matplotlib.image.AxesImage at 0x7f54f418fa60>"
      ]
     },
     "execution_count": 43,
     "metadata": {},
     "output_type": "execute_result"
    },
    {
     "data": {
      "image/png": "[encoded data removed]",
      "text/plain": [
       "<Figure size 432x288 with 1 Axes>"
      ]
     },
     "metadata": {
      "needs_background": "light"
     },
     "output_type": "display_data"
    }
   ],
   "source": [
    "third_ridge = ridge_pat_func(90, 80, 1, dataset)\n",
    "plt.imshow(third_ridge, cmap = 'gray')"
   ]
  },
  {
   "cell_type": "code",
   "execution_count": 44,
   "id": "0e1e4bb9",
   "metadata": {},
   "outputs": [
    {
     "data": {
      "text/plain": [
       "<matplotlib.image.AxesImage at 0x7f54eecb3160>"
      ]
     },
     "execution_count": 44,
     "metadata": {},
     "output_type": "execute_result"
    },
    {
     "data": {
      "image/png": "[encoded data removed]",
      "text/plain": [
       "<Figure size 432x288 with 1 Axes>"
      ]
     },
     "metadata": {
      "needs_background": "light"
     },
     "output_type": "display_data"
    }
   ],
   "source": [
    "fourth_ridge = ridge_pat_func(135, 80, 1, dataset)\n",
    "plt.imshow(fourth_ridge, cmap = 'gray')"
   ]
  },
  {
   "cell_type": "markdown",
   "id": "2b710b0d",
   "metadata": {},
   "source": [
    "### d)"
   ]
  },
  {
   "cell_type": "code",
   "execution_count": 45,
   "id": "43688fc0",
   "metadata": {},
   "outputs": [
    {
     "data": {
      "text/plain": [
       "<matplotlib.image.AxesImage at 0x7f54eec87850>"
      ]
     },
     "execution_count": 45,
     "metadata": {},
     "output_type": "execute_result"
    },
    {
     "data": {
      "image/png": "[encoded data removed]",
      "text/plain": [
       "<Figure size 432x288 with 1 Axes>"
      ]
     },
     "metadata": {
      "needs_background": "light"
     },
     "output_type": "display_data"
    }
   ],
   "source": [
    "first_ridge = ridge_pat_func(0, 80, 10, dataset)\n",
    "plt.imshow(first_ridge, cmap = 'gray')"
   ]
  },
  {
   "cell_type": "code",
   "execution_count": 46,
   "id": "c9605c7c",
   "metadata": {},
   "outputs": [
    {
     "data": {
      "text/plain": [
       "<matplotlib.image.AxesImage at 0x7f54eec5aee0>"
      ]
     },
     "execution_count": 46,
     "metadata": {},
     "output_type": "execute_result"
    },
    {
     "data": {
      "image/png": "[encoded data removed]",
      "text/plain": [
       "<Figure size 432x288 with 1 Axes>"
      ]
     },
     "metadata": {
      "needs_background": "light"
     },
     "output_type": "display_data"
    }
   ],
   "source": [
    "second_ridge = ridge_pat_func(45, 80, 10, dataset)\n",
    "plt.imshow(second_ridge, cmap = 'gray')"
   ]
  },
  {
   "cell_type": "code",
   "execution_count": 47,
   "id": "c5b89b37",
   "metadata": {},
   "outputs": [
    {
     "data": {
      "text/plain": [
       "<matplotlib.image.AxesImage at 0x7f54eebb85b0>"
      ]
     },
     "execution_count": 47,
     "metadata": {},
     "output_type": "execute_result"
    },
    {
     "data": {
      "image/png": "[encoded data removed]",
      "text/plain": [
       "<Figure size 432x288 with 1 Axes>"
      ]
     },
     "metadata": {
      "needs_background": "light"
     },
     "output_type": "display_data"
    }
   ],
   "source": [
    "third_ridge = ridge_pat_func(90, 80, 10, dataset)\n",
    "plt.imshow(third_ridge, cmap = 'gray')"
   ]
  },
  {
   "cell_type": "code",
   "execution_count": 48,
   "id": "414053f0",
   "metadata": {},
   "outputs": [
    {
     "data": {
      "text/plain": [
       "<matplotlib.image.AxesImage at 0x7f54eeb87c40>"
      ]
     },
     "execution_count": 48,
     "metadata": {},
     "output_type": "execute_result"
    },
    {
     "data": {
      "image/png": "[encoded data removed]",
      "text/plain": [
       "<Figure size 432x288 with 1 Axes>"
      ]
     },
     "metadata": {
      "needs_background": "light"
     },
     "output_type": "display_data"
    }
   ],
   "source": [
    "fourth_ridge = ridge_pat_func(135, 80, 10, dataset)\n",
    "plt.imshow(fourth_ridge, cmap = 'gray')"
   ]
  },
  {
   "cell_type": "markdown",
   "id": "c3a3a9cd",
   "metadata": {},
   "source": [
    "### 3. a)"
   ]
  },
  {
   "cell_type": "code",
   "execution_count": 1,
   "id": "ecacaf40",
   "metadata": {},
   "outputs": [
    {
     "name": "stdout",
     "output_type": "stream",
     "text": [
      "508\n",
      "480\n"
     ]
    }
   ],
   "source": [
    "import math\n",
    "import PIL.Image\n",
    "from scipy.signal import convolve2d\n",
    "import csv\n",
    "\n",
    "image = PIL.Image.open(\"user001_1.gif\")\n",
    "\n",
    "width, height = image.size\n",
    "print(width)\n",
    "print(height)"
   ]
  },
  {
   "cell_type": "code",
   "execution_count": 2,
   "id": "9cb07e17",
   "metadata": {},
   "outputs": [],
   "source": [
    "tp_lst = []\n",
    "pixel_lst = []\n",
    "other_lst = []\n",
    "for i in range(height):\n",
    "    for j in range(width):\n",
    "        pixel = image.getpixel((j, i))\n",
    "        tp_lst.append(pixel)\n",
    "        if len(tp_lst) == width:\n",
    "            pixel_lst.append(tp_lst)\n",
    "            tp_lst = []\n"
   ]
  },
  {
   "cell_type": "code",
   "execution_count": 3,
   "id": "b26a6f9b",
   "metadata": {},
   "outputs": [],
   "source": [
    "Sx = convolve2d(pixel_lst, [[-1, -2, -1], [0, 0, 0], [1, 2, 1]])\n",
    "Sy = convolve2d(pixel_lst, [[-1, 0, 1], [-2, 0, 2], [-1, 0, 1]])"
   ]
  },
  {
   "cell_type": "code",
   "execution_count": 4,
   "id": "e6aa1b20",
   "metadata": {},
   "outputs": [],
   "source": [
    "def orient_field_func(orientation_field, GradientX, GradientY):\n",
    "    numer_sum = 0\n",
    "    denom_sum = 0\n",
    "    \n",
    "    for i in range(4, 476):\n",
    "        for j in range(4, 504):\n",
    "            i_tp = i\n",
    "            j_tp = j\n",
    "            for k in range(-4, 5):\n",
    "                for l in range(-4, 5):\n",
    "                    numer_sum += 2*GradientX[i_tp+k, j_tp+l]*GradientY[i_tp+k, j_tp+1]\n",
    "                    denom_sum += pow(GradientX[i_tp+k, j_tp+l], 2) - pow(GradientY[i_tp+k, j_tp+1], 2)\n",
    "            if denom_sum == 0:\n",
    "                orientation_field[i][j] = 0.5*math.pi\n",
    "                numer_sum = 0\n",
    "                denom_sum = 0\n",
    "            else:\n",
    "                orientation_field[i][j] = (0.5 * math.atan2(numer_sum, denom_sum)) + (0.5 * math.pi)\n",
    "                numer_sum = 0\n",
    "                denom_sum = 0\n",
    "    return orientation_field\n",
    "                "
   ]
  },
  {
   "cell_type": "code",
   "execution_count": 5,
   "id": "8f1bf855",
   "metadata": {},
   "outputs": [],
   "source": [
    "field = [ [ 0 for j in range(508) ] for i in range(480) ]\n",
    "orientation_field = orient_field_func(field, Sx, Sy)"
   ]
  },
  {
   "cell_type": "code",
   "execution_count": 6,
   "id": "d1392d6d",
   "metadata": {},
   "outputs": [],
   "source": [
    "filename = \"orientation_matrix.csv\"\n",
    "    \n",
    "with open(filename, 'w') as csvfile:  \n",
    "    csvwriter = csv.writer(csvfile)   \n",
    "    csvwriter.writerows(orientation_field)"
   ]
  },
  {
   "cell_type": "markdown",
   "id": "9e3ae762",
   "metadata": {},
   "source": [
    "### b)"
   ]
  },
  {
   "cell_type": "code",
   "execution_count": 7,
   "id": "ad5a2aa9",
   "metadata": {},
   "outputs": [],
   "source": [
    "image2 = PIL.Image.open(\"user002_1.gif\")\n",
    "width2, height2 = image2.size"
   ]
  },
  {
   "cell_type": "code",
   "execution_count": 8,
   "id": "86de9d2c",
   "metadata": {},
   "outputs": [],
   "source": [
    "tp_lst2 = []\n",
    "pixel_lst2 = []\n",
    "other_lst2 = []\n",
    "for i in range(height2):\n",
    "    for j in range(width2):\n",
    "        pixel2 = image2.getpixel((j, i))\n",
    "        tp_lst2.append(pixel2)\n",
    "        if len(tp_lst2) == width2:\n",
    "            pixel_lst2.append(tp_lst2)\n",
    "            tp_lst2 = []"
   ]
  },
  {
   "cell_type": "code",
   "execution_count": 9,
   "id": "0d6f036f",
   "metadata": {},
   "outputs": [],
   "source": [
    "Sx2 = convolve2d(pixel_lst2, [[-1, -2, -1], [0, 0, 0], [1, 2, 1]])\n",
    "Sy2 = convolve2d(pixel_lst2, [[-1, 0, 1], [-2, 0, 2], [-1, 0, 1]])"
   ]
  },
  {
   "cell_type": "code",
   "execution_count": 10,
   "id": "f6466f8c",
   "metadata": {},
   "outputs": [],
   "source": [
    "field2 = [ [ 0 for i in range(508) ] for j in range(480) ]\n",
    "orientation_field2 = orient_field_func(field2, Sx2, Sy2)"
   ]
  },
  {
   "cell_type": "code",
   "execution_count": 11,
   "id": "26a53af4",
   "metadata": {},
   "outputs": [],
   "source": [
    "filename2 = \"orientation_matrix2.csv\"\n",
    "    \n",
    "with open(filename2, 'w') as csvfile2:  \n",
    "    csvwriter2 = csv.writer(csvfile2)   \n",
    "    csvwriter2.writerows(orientation_field2)"
   ]
  },
  {
   "cell_type": "markdown",
   "id": "705ad363",
   "metadata": {},
   "source": [
    "### c)"
   ]
  },
  {
   "cell_type": "code",
   "execution_count": 12,
   "id": "9c6f1d87",
   "metadata": {},
   "outputs": [],
   "source": [
    "image3 = PIL.Image.open(\"user003_1.gif\")\n",
    "width3, height3 = image3.size"
   ]
  },
  {
   "cell_type": "code",
   "execution_count": 13,
   "id": "7262beef",
   "metadata": {},
   "outputs": [],
   "source": [
    "tp_lst3 = []\n",
    "pixel_lst3 = []\n",
    "other_lst3 = []\n",
    "for i in range(height3):\n",
    "    for j in range(width3):\n",
    "        pixel3 = image3.getpixel((j, i))\n",
    "        tp_lst3.append(pixel3)\n",
    "        if len(tp_lst3) == width3:\n",
    "            pixel_lst3.append(tp_lst3)\n",
    "            tp_lst3 = []"
   ]
  },
  {
   "cell_type": "code",
   "execution_count": 14,
   "id": "8e1b5ddb",
   "metadata": {},
   "outputs": [],
   "source": [
    "Sx3 = convolve2d(pixel_lst3, [[-1, -2, -1], [0, 0, 0], [1, 2, 1]])\n",
    "Sy3 = convolve2d(pixel_lst3, [[-1, 0, 1], [-2, 0, 2], [-1, 0, 1]])"
   ]
  },
  {
   "cell_type": "code",
   "execution_count": 15,
   "id": "17885722",
   "metadata": {},
   "outputs": [],
   "source": [
    "field3 = [ [ 0 for i in range(508) ] for j in range(480) ]\n",
    "orientation_field3 = orient_field_func(field3, Sx3, Sy3)"
   ]
  },
  {
   "cell_type": "code",
   "execution_count": 16,
   "id": "ee441763",
   "metadata": {},
   "outputs": [],
   "source": [
    "filename3 = \"orientation_matrix3.csv\"\n",
    "    \n",
    "with open(filename3, 'w') as csvfile3:  \n",
    "    csvwriter3 = csv.writer(csvfile3)   \n",
    "    csvwriter3.writerows(orientation_field3)"
   ]
  },
  {
   "cell_type": "markdown",
   "id": "009a8189",
   "metadata": {},
   "source": [
    "### d)"
   ]
  },
  {
   "cell_type": "code",
   "execution_count": 17,
   "id": "08f38e04",
   "metadata": {},
   "outputs": [],
   "source": [
    "image4 = PIL.Image.open(\"user004_1.gif\")\n",
    "width4, height4 = image4.size"
   ]
  },
  {
   "cell_type": "code",
   "execution_count": 18,
   "id": "b3901f62",
   "metadata": {},
   "outputs": [],
   "source": [
    "tp_lst4 = []\n",
    "pixel_lst4 = []\n",
    "other_lst4 = []\n",
    "for i in range(height4):\n",
    "    for j in range(width4):\n",
    "        pixel4 = image4.getpixel((j, i))\n",
    "        tp_lst4.append(pixel4)\n",
    "        if len(tp_lst4) == width4:\n",
    "            pixel_lst4.append(tp_lst4)\n",
    "            tp_lst4 = []\n",
    "        "
   ]
  },
  {
   "cell_type": "code",
   "execution_count": 19,
   "id": "d3581853",
   "metadata": {},
   "outputs": [],
   "source": [
    "Sx4 = convolve2d(pixel_lst4, [[-1, -2, -1], [0, 0, 0], [1, 2, 1]])\n",
    "Sy4 = convolve2d(pixel_lst4, [[-1, 0, 1], [-2, 0, 2], [-1, 0, 1]])"
   ]
  },
  {
   "cell_type": "code",
   "execution_count": 20,
   "id": "0f1dd5d0",
   "metadata": {},
   "outputs": [],
   "source": [
    "field4 = [ [ 0 for i in range(508) ] for j in range(480) ]\n",
    "orientation_field4 = orient_field_func(field4, Sx4, Sy4)"
   ]
  },
  {
   "cell_type": "code",
   "execution_count": 21,
   "id": "4908e56c",
   "metadata": {},
   "outputs": [],
   "source": [
    "filename4 = \"orientation_matrix4.csv\"\n",
    "    \n",
    "with open(filename4, 'w') as csvfile4:  \n",
    "    csvwriter4 = csv.writer(csvfile4)   \n",
    "    csvwriter4.writerows(orientation_field4)"
   ]
  },
  {
   "cell_type": "markdown",
   "id": "f3b5b714",
   "metadata": {},
   "source": [
    "### e)"
   ]
  },
  {
   "cell_type": "code",
   "execution_count": 22,
   "id": "5ae561b1",
   "metadata": {},
   "outputs": [],
   "source": [
    "image5 = PIL.Image.open(\"user005_1.gif\")\n",
    "width5, height5 = image5.size"
   ]
  },
  {
   "cell_type": "code",
   "execution_count": 23,
   "id": "39204909",
   "metadata": {},
   "outputs": [],
   "source": [
    "tp_lst5 = []\n",
    "pixel_lst5 = []\n",
    "other_lst5 = []\n",
    "for i in range(height5):\n",
    "    for j in range(width5):\n",
    "        pixel5 = image5.getpixel((j, i))\n",
    "        tp_lst5.append(pixel5)\n",
    "        if len(tp_lst5) == width5:\n",
    "            pixel_lst5.append(tp_lst5)\n",
    "            tp_lst5 = []\n",
    "            "
   ]
  },
  {
   "cell_type": "code",
   "execution_count": 24,
   "id": "a905b9a3",
   "metadata": {},
   "outputs": [],
   "source": [
    "Sx5 = convolve2d(pixel_lst5, [[-1, -2, -1], [0, 0, 0], [1, 2, 1]])\n",
    "Sy5 = convolve2d(pixel_lst5, [[-1, 0, 1], [-2, 0, 2], [-1, 0, 1]])"
   ]
  },
  {
   "cell_type": "code",
   "execution_count": 25,
   "id": "e0c3f82f",
   "metadata": {},
   "outputs": [],
   "source": [
    "field5 = [ [ 0 for i in range(508) ] for j in range(480) ]\n",
    "orientation_field5 = orient_field_func(field5, Sx5, Sy5)"
   ]
  },
  {
   "cell_type": "code",
   "execution_count": 26,
   "id": "80278e96",
   "metadata": {},
   "outputs": [],
   "source": [
    "filename5 = \"orientation_matrix5.csv\"\n",
    "    \n",
    "with open(filename5, 'w') as csvfile5:  \n",
    "    csvwriter5 = csv.writer(csvfile5)   \n",
    "    csvwriter5.writerows(orientation_field5)"
   ]
  },
  {
   "cell_type": "markdown",
   "id": "23e3167b",
   "metadata": {},
   "source": [
    "### f)"
   ]
  },
  {
   "cell_type": "code",
   "execution_count": 27,
   "id": "cffdb1d3",
   "metadata": {},
   "outputs": [],
   "source": [
    "image6 = PIL.Image.open(\"user006_1.gif\")\n",
    "width6, height6 = image6.size"
   ]
  },
  {
   "cell_type": "code",
   "execution_count": 28,
   "id": "8c571b8b",
   "metadata": {},
   "outputs": [],
   "source": [
    "tp_lst6 = []\n",
    "pixel_lst6 = []\n",
    "other_lst6 = []\n",
    "for i in range(height6):\n",
    "    for j in range(width6):\n",
    "        pixel6 = image6.getpixel((j, i))\n",
    "        tp_lst6.append(pixel6)\n",
    "        if len(tp_lst6) == width6:\n",
    "            pixel_lst6.append(tp_lst6)\n",
    "            tp_lst6 = []\n",
    "            "
   ]
  },
  {
   "cell_type": "code",
   "execution_count": 29,
   "id": "707fcdc7",
   "metadata": {},
   "outputs": [],
   "source": [
    "Sx6 = convolve2d(pixel_lst6, [[-1, -2, -1], [0, 0, 0], [1, 2, 1]])\n",
    "Sy6 = convolve2d(pixel_lst6, [[-1, 0, 1], [-2, 0, 2], [-1, 0, 1]])"
   ]
  },
  {
   "cell_type": "code",
   "execution_count": 30,
   "id": "5c452096",
   "metadata": {},
   "outputs": [],
   "source": [
    "field6 = [ [ 0 for i in range(508) ] for j in range(480) ]\n",
    "orientation_field6 = orient_field_func(field6, Sx6, Sy6)"
   ]
  },
  {
   "cell_type": "code",
   "execution_count": 31,
   "id": "1be1ec72",
   "metadata": {},
   "outputs": [],
   "source": [
    "filename6 = \"orientation_matrix6.csv\"\n",
    "    \n",
    "with open(filename6, 'w') as csvfile6:  \n",
    "    csvwriter6 = csv.writer(csvfile6)   \n",
    "    csvwriter6.writerows(orientation_field6)"
   ]
  },
  {
   "cell_type": "markdown",
   "id": "66c2d21a",
   "metadata": {},
   "source": [
    "### g)"
   ]
  },
  {
   "cell_type": "code",
   "execution_count": 32,
   "id": "12ecf408",
   "metadata": {},
   "outputs": [],
   "source": [
    "image7 = PIL.Image.open(\"user007_1.gif\")\n",
    "width7, height7 = image7.size"
   ]
  },
  {
   "cell_type": "code",
   "execution_count": 33,
   "id": "4105b6a4",
   "metadata": {},
   "outputs": [],
   "source": [
    "tp_lst7 = []\n",
    "pixel_lst7 = []\n",
    "other_lst7 = []\n",
    "for i in range(height7):\n",
    "    for j in range(width7):\n",
    "        pixel7 = image7.getpixel((j, i))\n",
    "        tp_lst7.append(pixel7)\n",
    "        if len(tp_lst7) == width7:\n",
    "            pixel_lst7.append(tp_lst7)\n",
    "            tp_lst7 = []\n",
    "            "
   ]
  },
  {
   "cell_type": "code",
   "execution_count": 34,
   "id": "2c1d580b",
   "metadata": {},
   "outputs": [],
   "source": [
    "Sx7 = convolve2d(pixel_lst7, [[-1, -2, -1], [0, 0, 0], [1, 2, 1]])\n",
    "Sy7 = convolve2d(pixel_lst7, [[-1, 0, 1], [-2, 0, 2], [-1, 0, 1]])"
   ]
  },
  {
   "cell_type": "code",
   "execution_count": 35,
   "id": "f74ddab0",
   "metadata": {},
   "outputs": [],
   "source": [
    "field7 = [ [ 0 for i in range(508) ] for j in range(480) ]\n",
    "orientation_field7 = orient_field_func(field7, Sx7, Sy7)"
   ]
  },
  {
   "cell_type": "code",
   "execution_count": 36,
   "id": "7c61e974",
   "metadata": {},
   "outputs": [],
   "source": [
    "filename7 = \"orientation_matrix7.csv\"\n",
    "    \n",
    "with open(filename7, 'w') as csvfile7:  \n",
    "    csvwriter7 = csv.writer(csvfile7)   \n",
    "    csvwriter7.writerows(orientation_field7)"
   ]
  },
  {
   "cell_type": "markdown",
   "id": "5b191782",
   "metadata": {},
   "source": [
    "### h)"
   ]
  },
  {
   "cell_type": "code",
   "execution_count": 37,
   "id": "e0390dbf",
   "metadata": {},
   "outputs": [],
   "source": [
    "image8 = PIL.Image.open(\"user008_1.gif\")\n",
    "width8, height8 = image8.size"
   ]
  },
  {
   "cell_type": "code",
   "execution_count": 38,
   "id": "5f7ed3b5",
   "metadata": {},
   "outputs": [],
   "source": [
    "tp_lst8 = []\n",
    "pixel_lst8 = []\n",
    "other_lst8 = []\n",
    "for i in range(height8):\n",
    "    for j in range(width8):\n",
    "        pixel8 = image8.getpixel((j, i))\n",
    "        tp_lst8.append(pixel8)\n",
    "        if len(tp_lst8) == width8:\n",
    "            pixel_lst8.append(tp_lst8)\n",
    "            tp_lst8 = []\n",
    "            "
   ]
  },
  {
   "cell_type": "code",
   "execution_count": 39,
   "id": "1fb66d76",
   "metadata": {},
   "outputs": [],
   "source": [
    "Sx8 = convolve2d(pixel_lst8, [[-1, -2, -1], [0, 0, 0], [1, 2, 1]])\n",
    "Sy8 = convolve2d(pixel_lst8, [[-1, 0, 1], [-2, 0, 2], [-1, 0, 1]])"
   ]
  },
  {
   "cell_type": "code",
   "execution_count": 40,
   "id": "9d1c5ed0",
   "metadata": {},
   "outputs": [],
   "source": [
    "field8 = [ [ 0 for i in range(508) ] for j in range(480) ]\n",
    "orientation_field8 = orient_field_func(field8, Sx8, Sy8)"
   ]
  },
  {
   "cell_type": "code",
   "execution_count": 41,
   "id": "b5f7df60",
   "metadata": {},
   "outputs": [],
   "source": [
    "filename8 = \"orientation_matrix8.csv\"\n",
    "    \n",
    "with open(filename8, 'w') as csvfile8:  \n",
    "    csvwriter8 = csv.writer(csvfile8)   \n",
    "    csvwriter8.writerows(orientation_field8)"
   ]
  },
  {
   "cell_type": "markdown",
   "id": "3ea2ee41",
   "metadata": {},
   "source": [
    "### i)"
   ]
  },
  {
   "cell_type": "code",
   "execution_count": 42,
   "id": "a13de1eb",
   "metadata": {},
   "outputs": [],
   "source": [
    "image9 = PIL.Image.open(\"user009_1.gif\")\n",
    "width9, height9 = image9.size"
   ]
  },
  {
   "cell_type": "code",
   "execution_count": 43,
   "id": "cf67eb8c",
   "metadata": {},
   "outputs": [],
   "source": [
    "tp_lst9 = []\n",
    "pixel_lst9 = []\n",
    "other_lst9 = []\n",
    "for i in range(height9):\n",
    "    for j in range(width9):\n",
    "        pixel9 = image9.getpixel((j, i))\n",
    "        tp_lst9.append(pixel9)\n",
    "        if len(tp_lst9) == width9:\n",
    "            pixel_lst9.append(tp_lst9)\n",
    "            tp_lst9 = []"
   ]
  },
  {
   "cell_type": "code",
   "execution_count": 44,
   "id": "d0f05fa4",
   "metadata": {},
   "outputs": [],
   "source": [
    "Sx9 = convolve2d(pixel_lst9, [[-1, -2, -1], [0, 0, 0], [1, 2, 1]])\n",
    "Sy9 = convolve2d(pixel_lst9, [[-1, 0, 1], [-2, 0, 2], [-1, 0, 1]])"
   ]
  },
  {
   "cell_type": "code",
   "execution_count": 45,
   "id": "9f8708f3",
   "metadata": {},
   "outputs": [],
   "source": [
    "field9 = [ [ 0 for i in range(508) ] for j in range(480) ]\n",
    "orientation_field9 = orient_field_func(field9, Sx9, Sy9)"
   ]
  },
  {
   "cell_type": "code",
   "execution_count": 46,
   "id": "87add6f3",
   "metadata": {},
   "outputs": [],
   "source": [
    "filename9 = \"orientation_matrix9.csv\"\n",
    "    \n",
    "with open(filename9, 'w') as csvfile9:  \n",
    "    csvwriter9 = csv.writer(csvfile9)   \n",
    "    csvwriter9.writerows(orientation_field9)"
   ]
  },
  {
   "cell_type": "markdown",
   "id": "3f9fa174",
   "metadata": {},
   "source": [
    "### j)"
   ]
  },
  {
   "cell_type": "code",
   "execution_count": 47,
   "id": "d406bdbf",
   "metadata": {},
   "outputs": [],
   "source": [
    "image10 = PIL.Image.open(\"user010_1.gif\")\n",
    "width10, height10 = image10.size"
   ]
  },
  {
   "cell_type": "code",
   "execution_count": 48,
   "id": "8f7e2c2f",
   "metadata": {},
   "outputs": [],
   "source": [
    "tp_lst10 = []\n",
    "pixel_lst10 = []\n",
    "other_lst10 = []\n",
    "for i in range(height10):\n",
    "    for j in range(width10):\n",
    "        pixel0 = image10.getpixel((j, i))\n",
    "        tp_lst10.append(pixel0)\n",
    "        if len(tp_lst10) == width10:\n",
    "            pixel_lst10.append(tp_lst10)\n",
    "            tp_lst10 = []\n",
    "            "
   ]
  },
  {
   "cell_type": "code",
   "execution_count": 49,
   "id": "cae6a6f5",
   "metadata": {},
   "outputs": [],
   "source": [
    "Sx10 = convolve2d(pixel_lst10, [[-1, -2, -1], [0, 0, 0], [1, 2, 1]])\n",
    "Sy10 = convolve2d(pixel_lst10, [[-1, 0, 1], [-2, 0, 2], [-1, 0, 1]])"
   ]
  },
  {
   "cell_type": "code",
   "execution_count": 50,
   "id": "89dd40da",
   "metadata": {},
   "outputs": [],
   "source": [
    "field10 = [ [ 0 for i in range(508) ] for j in range(480) ]\n",
    "orientation_field10 = orient_field_func(field10, Sx10, Sy10)"
   ]
  },
  {
   "cell_type": "code",
   "execution_count": 51,
   "id": "ff6d0e03",
   "metadata": {},
   "outputs": [],
   "source": [
    "filename10 = \"orientation_matrix10.csv\"\n",
    "    \n",
    "with open(filename10, 'w') as csvfile10:  \n",
    "    csvwriter10 = csv.writer(csvfile10)   \n",
    "    csvwriter10.writerows(orientation_field10)"
   ]
  },
  {
   "cell_type": "markdown",
   "id": "6179cf6b",
   "metadata": {},
   "source": [
    "### 4)"
   ]
  },
  {
   "cell_type": "code",
   "execution_count": 54,
   "id": "de2f0636",
   "metadata": {},
   "outputs": [],
   "source": [
    "import pandas as pd\n",
    "import numpy as np\n",
    "import math"
   ]
  },
  {
   "cell_type": "code",
   "execution_count": 53,
   "id": "05b11096",
   "metadata": {},
   "outputs": [],
   "source": [
    "def minutia_matching(minutia_lst):\n",
    "    column_names = [\"First file\",\"Second file\",\"Change in horizontal direction\",\"Change in vertical direction\",\n",
    "                    \"Change in orientation\",\"Number of matching pairs\"]\n",
    "    df = pd.DataFrame(columns=column_names)\n",
    "\n",
    "    for element in minutia_lst:\n",
    "\n",
    "        if element[0][0] != element[0][1]:\n",
    "            minutia_file1_mod = []\n",
    "            tup_lst = []\n",
    "            tp_lst = []\n",
    "            corr_num_lst = []\n",
    "            eucldist_lst = []\n",
    "            direction_angle_tup_lst = []\n",
    "            direction_angle_lst = []\n",
    "            tx = 0\n",
    "            ty = 0\n",
    "            tr = 0\n",
    "            tp_tup = 0\n",
    "            tp_key = 0\n",
    "\n",
    "            minutia_file1 = pd.read_csv(element[0][0], sep='\\t')\n",
    "            minutia_file1 = np.concatenate([[minutia_file1.columns], minutia_file1.values], axis=0)\n",
    "            minutia_file1 = minutia_file1.astype(int)\n",
    "            minutia_file1 = minutia_file1.tolist()\n",
    "\n",
    "            minutia_file2 = pd.read_csv(element[0][1], sep='\\t')\n",
    "            minutia_file2 = np.concatenate([[minutia_file2.columns], minutia_file2.values], axis=0)\n",
    "            minutia_file2 = minutia_file2.astype(int)\n",
    "            minutia_file2 = minutia_file2.tolist()\n",
    "\n",
    "            for key in minutia_file1:\n",
    "                tup_lst = []\n",
    "                tp_key = key\n",
    "                if tp_key not in tup_lst:\n",
    "                    tup_lst.append(tp_key)\n",
    "                    for tup in minutia_file2:\n",
    "                        tp_tup = tup\n",
    "                        tx = tup[0] - key[0]\n",
    "                        ty = tup[1] - key[1]\n",
    "                        tr = tup[2] - key[2]\n",
    "                        direction_angle_tup_lst.extend(tuple([tx, ty, tr]))\n",
    "                        direction_angle_lst.append(direction_angle_tup_lst)\n",
    "                        direction_angle_tup_lst = []\n",
    "                        for value in minutia_file1:\n",
    "                            if value != tp_key:\n",
    "                                value[0] = (value[0]*math.cos(math.radians(tr))-key[0]*math.cos(\n",
    "                                    math.radians(tr))) + (value[1]*math.sin(math.radians(tr))-key[1]*math.sin(\n",
    "                                    math.radians(tr))) + key[0] + tx\n",
    "                                value[1] = (-value[0]*math.sin(math.radians(tr))+key[0]*math.sin(\n",
    "                                    math.radians(tr))) + (value[1]*math.cos(math.radians(tr))-key[1]*math.cos(\n",
    "                                    math.radians(tr))) + key[1] + ty\n",
    "                                minutia_file1_mod.append(value)\n",
    "                            else:\n",
    "                                minutia_file1_mod.append(value)\n",
    "\n",
    "                        for item in minutia_file1_mod:\n",
    "                            eucldist_lst = []\n",
    "                            for pair in minutia_file2:\n",
    "                                if item != tp_key:\n",
    "                                    if pair != tp_tup:\n",
    "                                        if 0 <= math.sqrt(pow(item[0]-pair[0], 2) + pow(item[1]-pair[1], 2))<=10:\n",
    "                                            if len(eucldist_lst) == 0:\n",
    "                                                eucldist_lst.append(\n",
    "                                                    math.sqrt(pow(item[0]-pair[0], 2) + pow(item[1]-pair[1], 2)))\n",
    "                                                tp_lst.append(tuple([item, pair]))\n",
    "                                            else:\n",
    "                                                if math.sqrt(pow(item[0]-pair[0], 2) + pow(item[1]-pair[1], 2))< \\\n",
    "                                                        eucldist_lst[-1]:\n",
    "                                                    eucldist_lst.remove(eucldist_lst[-1])\n",
    "                                                    eucldist_lst.append(math.sqrt(\n",
    "                                                        pow(item[0] - pair[0], 2) + pow(item[1] - pair[1], 2)))\n",
    "                                                    tp_lst.append(tuple([item, pair]))\n",
    "\n",
    "                                else:\n",
    "                                    if pair == tp_tup:\n",
    "                                        tp_lst.append(tuple([item, pair]))\n",
    "\n",
    "                        corr_num_lst.append(tp_lst)\n",
    "                        tp_lst = []\n",
    "                        minutia_file1_mod = []\n",
    "                        minutia_file1 = []\n",
    "                        minutia_file1 = pd.read_csv(element[0][0], sep='\\t')\n",
    "                        minutia_file1 = np.concatenate([[minutia_file1.columns], minutia_file1.values], axis=0)\n",
    "                        minutia_file1 = minutia_file1.astype(int)\n",
    "                        minutia_file1 = minutia_file1.tolist()\n",
    "\n",
    "            idx = 0\n",
    "            maxim = 0\n",
    "            for i in range(len(corr_num_lst)):\n",
    "                if maxim == 0:\n",
    "                    maxim = len(corr_num_lst[i])\n",
    "                    idx = i\n",
    "                else:\n",
    "                    if len(corr_num_lst[i]) > maxim:\n",
    "                        maxim = len(corr_num_lst[i])\n",
    "                        idx = i\n",
    "\n",
    "            new_tx = 0\n",
    "            new_ty = 0\n",
    "            new_tr = 0\n",
    "            for j in range(len(direction_angle_lst)):\n",
    "                if j == idx:\n",
    "                    new_tx += direction_angle_lst[j][0]\n",
    "                    new_ty += direction_angle_lst[j][1]\n",
    "                    new_tr += direction_angle_lst[j][2]\n",
    "\n",
    "            df = df.append(\n",
    "                {'First file':element[0][0],'Second file':element[0][1],'Change in horizontal direction':new_tx,\n",
    "                 'Change in vertical direction':new_ty,'Change in orientation':new_tr,\n",
    "                 'Number of matching pairs':maxim}, ignore_index=True)\n",
    "\n",
    "    return df\n"
   ]
  },
  {
   "cell_type": "code",
   "execution_count": 55,
   "id": "c425de29",
   "metadata": {},
   "outputs": [],
   "source": [
    "minutia_set = minutia_matching([[('user001_1.minpoints', 'user001_1.minpoints')], [('user001_1.minpoints', 'user001_2.minpoints')],\n",
    "                                [('user001_1.minpoints', 'user002_1.minpoints')], [('user001_1.minpoints', 'user002_2.minpoints')],\n",
    "                                 [('user001_1.minpoints', 'user003_1.minpoints')], [('user001_1.minpoints', 'user003_2.minpoints')],\n",
    "                                 [('user001_1.minpoints', 'user004_1.minpoints')], [('user001_1.minpoints', 'user004_2.minpoints')],\n",
    "                                 [('user001_1.minpoints', 'user005_1.minpoints')], [('user001_1.minpoints', 'user005_2.minpoints')],\n",
    "                                 [('user001_2.minpoints', 'user001_1.minpoints')], [('user001_2.minpoints', 'user001_2.minpoints')],\n",
    "                                [('user001_2.minpoints', 'user002_1.minpoints')], [('user001_2.minpoints', 'user002_2.minpoints')],\n",
    "                                 [('user001_2.minpoints', 'user003_1.minpoints')], [('user001_2.minpoints', 'user003_2.minpoints')],\n",
    "                                 [('user001_2.minpoints', 'user004_1.minpoints')], [('user001_2.minpoints', 'user004_2.minpoints')],\n",
    "                                 [('user001_2.minpoints', 'user005_1.minpoints')], [('user001_2.minpoints', 'user005_2.minpoints')],\n",
    "                                 [('user002_1.minpoints', 'user001_1.minpoints')], [('user002_1.minpoints', 'user001_2.minpoints')],\n",
    "                                [('user002_1.minpoints', 'user002_1.minpoints')], [('user002_1.minpoints', 'user002_2.minpoints')],\n",
    "                                 [('user002_1.minpoints', 'user003_1.minpoints')], [('user002_1.minpoints', 'user003_2.minpoints')],\n",
    "                                 [('user002_1.minpoints', 'user004_1.minpoints')], [('user002_1.minpoints', 'user004_2.minpoints')],\n",
    "                                 [('user002_1.minpoints', 'user005_1.minpoints')], [('user002_1.minpoints', 'user005_2.minpoints')],\n",
    "                                [('user002_2.minpoints', 'user001_1.minpoints')], [('user002_2.minpoints', 'user001_2.minpoints')],\n",
    "                                [('user002_2.minpoints', 'user002_1.minpoints')], [('user002_2.minpoints', 'user002_2.minpoints')],\n",
    "                                 [('user002_2.minpoints', 'user003_1.minpoints')], [('user002_2.minpoints', 'user003_2.minpoints')],\n",
    "                                 [('user002_2.minpoints', 'user004_1.minpoints')], [('user002_2.minpoints', 'user004_2.minpoints')],\n",
    "                                 [('user002_2.minpoints', 'user005_1.minpoints')], [('user002_2.minpoints', 'user005_2.minpoints')],\n",
    "                                 [('user003_1.minpoints', 'user001_1.minpoints')], [('user003_1.minpoints', 'user001_2.minpoints')],\n",
    "                                [('user003_1.minpoints', 'user002_1.minpoints')], [('user003_1.minpoints', 'user002_2.minpoints')],\n",
    "                                 [('user003_1.minpoints', 'user003_1.minpoints')], [('user003_1.minpoints', 'user003_2.minpoints')],\n",
    "                                 [('user003_1.minpoints', 'user004_1.minpoints')], [('user003_1.minpoints', 'user004_2.minpoints')],\n",
    "                                 [('user003_1.minpoints', 'user005_1.minpoints')], [('user003_1.minpoints', 'user005_2.minpoints')],\n",
    "                                [('user003_2.minpoints', 'user001_1.minpoints')], [('user003_2.minpoints', 'user001_2.minpoints')],\n",
    "                                [('user003_2.minpoints', 'user002_1.minpoints')], [('user003_2.minpoints', 'user002_2.minpoints')],\n",
    "                                 [('user003_2.minpoints', 'user003_1.minpoints')], [('user003_2.minpoints', 'user003_2.minpoints')],\n",
    "                                 [('user003_2.minpoints', 'user004_1.minpoints')], [('user003_2.minpoints', 'user004_2.minpoints')],\n",
    "                                 [('user003_2.minpoints', 'user005_1.minpoints')], [('user003_2.minpoints', 'user005_2.minpoints')],\n",
    "                                 [('user004_1.minpoints', 'user001_1.minpoints')], [('user004_1.minpoints', 'user001_2.minpoints')],\n",
    "                                [('user004_1.minpoints', 'user002_1.minpoints')], [('user004_1.minpoints', 'user002_2.minpoints')],\n",
    "                                 [('user004_1.minpoints', 'user003_1.minpoints')], [('user004_1.minpoints', 'user003_2.minpoints')],\n",
    "                                 [('user004_1.minpoints', 'user004_1.minpoints')], [('user004_1.minpoints', 'user004_2.minpoints')],\n",
    "                                 [('user004_1.minpoints', 'user005_1.minpoints')], [('user004_1.minpoints', 'user005_2.minpoints')],\n",
    "                                [('user004_2.minpoints', 'user001_1.minpoints')], [('user004_2.minpoints', 'user001_2.minpoints')],\n",
    "                                [('user004_2.minpoints', 'user002_1.minpoints')], [('user004_2.minpoints', 'user002_2.minpoints')],\n",
    "                                 [('user004_2.minpoints', 'user003_1.minpoints')], [('user004_2.minpoints', 'user003_2.minpoints')],\n",
    "                                 [('user004_2.minpoints', 'user004_1.minpoints')], [('user004_2.minpoints', 'user004_2.minpoints')],\n",
    "                                 [('user004_2.minpoints', 'user005_1.minpoints')], [('user004_2.minpoints', 'user005_2.minpoints')],\n",
    "                                 [('user005_1.minpoints', 'user001_1.minpoints')], [('user005_1.minpoints', 'user001_2.minpoints')],\n",
    "                                [('user005_1.minpoints', 'user002_1.minpoints')], [('user005_1.minpoints', 'user002_2.minpoints')],\n",
    "                                 [('user005_1.minpoints', 'user003_1.minpoints')], [('user005_1.minpoints', 'user003_2.minpoints')],\n",
    "                                 [('user005_1.minpoints', 'user004_1.minpoints')], [('user005_1.minpoints', 'user004_2.minpoints')],\n",
    "                                 [('user005_1.minpoints', 'user005_1.minpoints')], [('user005_1.minpoints', 'user005_2.minpoints')],\n",
    "                               [('user005_2.minpoints', 'user001_1.minpoints')], [('user005_2.minpoints', 'user001_2.minpoints')],\n",
    "                                [('user005_2.minpoints', 'user002_1.minpoints')], [('user005_2.minpoints', 'user002_2.minpoints')],\n",
    "                                 [('user005_2.minpoints', 'user003_1.minpoints')], [('user005_2.minpoints', 'user003_2.minpoints')],\n",
    "                                 [('user005_2.minpoints', 'user004_1.minpoints')], [('user005_2.minpoints', 'user004_2.minpoints')],\n",
    "                                 [('user005_2.minpoints', 'user005_1.minpoints')], [('user005_2.minpoints', 'user005_2.minpoints')]])"
   ]
  },
  {
   "cell_type": "code",
   "execution_count": 56,
   "id": "bb1b0611",
   "metadata": {},
   "outputs": [
    {
     "data": {
      "text/html": [
       "<div>\n",
       "<style scoped>\n",
       "    .dataframe tbody tr th:only-of-type {\n",
       "        vertical-align: middle;\n",
       "    }\n",
       "\n",
       "    .dataframe tbody tr th {\n",
       "        vertical-align: top;\n",
       "    }\n",
       "\n",
       "    .dataframe thead th {\n",
       "        text-align: right;\n",
       "    }\n",
       "</style>\n",
       "<table border=\"1\" class=\"dataframe\">\n",
       "  <thead>\n",
       "    <tr style=\"text-align: right;\">\n",
       "      <th></th>\n",
       "      <th>First file</th>\n",
       "      <th>Second file</th>\n",
       "      <th>Change in horizontal direction</th>\n",
       "      <th>Change in vertical direction</th>\n",
       "      <th>Change in orientation</th>\n",
       "      <th>Number of matching pairs</th>\n",
       "    </tr>\n",
       "  </thead>\n",
       "  <tbody>\n",
       "    <tr>\n",
       "      <th>0</th>\n",
       "      <td>user001_1.minpoints</td>\n",
       "      <td>user001_2.minpoints</td>\n",
       "      <td>23.000000</td>\n",
       "      <td>67.000000</td>\n",
       "      <td>-256</td>\n",
       "      <td>11</td>\n",
       "    </tr>\n",
       "    <tr>\n",
       "      <th>1</th>\n",
       "      <td>user001_1.minpoints</td>\n",
       "      <td>user002_1.minpoints</td>\n",
       "      <td>-60.164301</td>\n",
       "      <td>-133.012896</td>\n",
       "      <td>71</td>\n",
       "      <td>13</td>\n",
       "    </tr>\n",
       "    <tr>\n",
       "      <th>2</th>\n",
       "      <td>user001_1.minpoints</td>\n",
       "      <td>user002_2.minpoints</td>\n",
       "      <td>-29.969359</td>\n",
       "      <td>112.698843</td>\n",
       "      <td>90</td>\n",
       "      <td>13</td>\n",
       "    </tr>\n",
       "    <tr>\n",
       "      <th>3</th>\n",
       "      <td>user001_1.minpoints</td>\n",
       "      <td>user003_1.minpoints</td>\n",
       "      <td>161.062431</td>\n",
       "      <td>177.314314</td>\n",
       "      <td>-90</td>\n",
       "      <td>13</td>\n",
       "    </tr>\n",
       "    <tr>\n",
       "      <th>4</th>\n",
       "      <td>user001_1.minpoints</td>\n",
       "      <td>user003_2.minpoints</td>\n",
       "      <td>-63.000000</td>\n",
       "      <td>135.000000</td>\n",
       "      <td>-51</td>\n",
       "      <td>9</td>\n",
       "    </tr>\n",
       "    <tr>\n",
       "      <th>...</th>\n",
       "      <td>...</td>\n",
       "      <td>...</td>\n",
       "      <td>...</td>\n",
       "      <td>...</td>\n",
       "      <td>...</td>\n",
       "      <td>...</td>\n",
       "    </tr>\n",
       "    <tr>\n",
       "      <th>85</th>\n",
       "      <td>user005_2.minpoints</td>\n",
       "      <td>user003_1.minpoints</td>\n",
       "      <td>-147.000000</td>\n",
       "      <td>48.000000</td>\n",
       "      <td>71</td>\n",
       "      <td>13</td>\n",
       "    </tr>\n",
       "    <tr>\n",
       "      <th>86</th>\n",
       "      <td>user005_2.minpoints</td>\n",
       "      <td>user003_2.minpoints</td>\n",
       "      <td>-157.000000</td>\n",
       "      <td>116.000000</td>\n",
       "      <td>67</td>\n",
       "      <td>14</td>\n",
       "    </tr>\n",
       "    <tr>\n",
       "      <th>87</th>\n",
       "      <td>user005_2.minpoints</td>\n",
       "      <td>user004_1.minpoints</td>\n",
       "      <td>78.473031</td>\n",
       "      <td>15.599356</td>\n",
       "      <td>-29</td>\n",
       "      <td>9</td>\n",
       "    </tr>\n",
       "    <tr>\n",
       "      <th>88</th>\n",
       "      <td>user005_2.minpoints</td>\n",
       "      <td>user004_2.minpoints</td>\n",
       "      <td>138.000000</td>\n",
       "      <td>277.000000</td>\n",
       "      <td>164</td>\n",
       "      <td>10</td>\n",
       "    </tr>\n",
       "    <tr>\n",
       "      <th>89</th>\n",
       "      <td>user005_2.minpoints</td>\n",
       "      <td>user005_1.minpoints</td>\n",
       "      <td>-113.865352</td>\n",
       "      <td>66.956367</td>\n",
       "      <td>-283</td>\n",
       "      <td>13</td>\n",
       "    </tr>\n",
       "  </tbody>\n",
       "</table>\n",
       "<p>90 rows × 6 columns</p>\n",
       "</div>"
      ],
      "text/plain": [
       "             First file          Second file  Change in horizontal direction  \\\n",
       "0   user001_1.minpoints  user001_2.minpoints                       23.000000   \n",
       "1   user001_1.minpoints  user002_1.minpoints                      -60.164301   \n",
       "2   user001_1.minpoints  user002_2.minpoints                      -29.969359   \n",
       "3   user001_1.minpoints  user003_1.minpoints                      161.062431   \n",
       "4   user001_1.minpoints  user003_2.minpoints                      -63.000000   \n",
       "..                  ...                  ...                             ...   \n",
       "85  user005_2.minpoints  user003_1.minpoints                     -147.000000   \n",
       "86  user005_2.minpoints  user003_2.minpoints                     -157.000000   \n",
       "87  user005_2.minpoints  user004_1.minpoints                       78.473031   \n",
       "88  user005_2.minpoints  user004_2.minpoints                      138.000000   \n",
       "89  user005_2.minpoints  user005_1.minpoints                     -113.865352   \n",
       "\n",
       "    Change in vertical direction Change in orientation  \\\n",
       "0                      67.000000                  -256   \n",
       "1                    -133.012896                    71   \n",
       "2                     112.698843                    90   \n",
       "3                     177.314314                   -90   \n",
       "4                     135.000000                   -51   \n",
       "..                           ...                   ...   \n",
       "85                     48.000000                    71   \n",
       "86                    116.000000                    67   \n",
       "87                     15.599356                   -29   \n",
       "88                    277.000000                   164   \n",
       "89                     66.956367                  -283   \n",
       "\n",
       "   Number of matching pairs  \n",
       "0                        11  \n",
       "1                        13  \n",
       "2                        13  \n",
       "3                        13  \n",
       "4                         9  \n",
       "..                      ...  \n",
       "85                       13  \n",
       "86                       14  \n",
       "87                        9  \n",
       "88                       10  \n",
       "89                       13  \n",
       "\n",
       "[90 rows x 6 columns]"
      ]
     },
     "execution_count": 56,
     "metadata": {},
     "output_type": "execute_result"
    }
   ],
   "source": [
    "minutia_set"
   ]
  },
  {
   "cell_type": "code",
   "execution_count": null,
   "id": "65b03c3c",
   "metadata": {},
   "outputs": [],
   "source": []
  }
 ],
 "metadata": {
  "kernelspec": {
   "display_name": "Python 3",
   "language": "python",
   "name": "python3"
  },
  "language_info": {
   "codemirror_mode": {
    "name": "ipython",
    "version": 3
   },
   "file_extension": ".py",
   "mimetype": "text/x-python",
   "name": "python",
   "nbconvert_exporter": "python",
   "pygments_lexer": "ipython3",
   "version": "3.8.8"
  }
 },
 "nbformat": 4,
 "nbformat_minor": 5
}
